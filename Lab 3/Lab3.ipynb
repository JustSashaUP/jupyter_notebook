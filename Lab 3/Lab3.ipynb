{
 "cells": [
  {
   "cell_type": "code",
   "execution_count": 1,
   "id": "4ff4a2b3-20bd-4efe-8c6d-e11ea3c8d4de",
   "metadata": {},
   "outputs": [
    {
     "data": {
      "text/plain": [
       "2"
      ]
     },
     "execution_count": 1,
     "metadata": {},
     "output_type": "execute_result"
    }
   ],
   "source": [
    "N = (17 + 4 ) % 5 + 1\n",
    "N"
   ]
  },
  {
   "cell_type": "markdown",
   "id": "6b880da1-c15e-4a7c-ac92-1b1d0caed9d8",
   "metadata": {},
   "source": [
    "## Завдання 3"
   ]
  },
  {
   "cell_type": "code",
   "execution_count": 4,
   "id": "a81a2b54-a928-4d47-b8ad-7f79e84d4b71",
   "metadata": {
    "scrolled": true
   },
   "outputs": [],
   "source": [
    "import pandas as pd\n",
    "\n",
    "def get_header_name(file_name):\n",
    "    file = pd.read_csv(file_name)\n",
    "    return file.columns"
   ]
  },
  {
   "cell_type": "code",
   "execution_count": 5,
   "id": "72f6b282-0e78-4e66-a5c1-495782a0710f",
   "metadata": {},
   "outputs": [
    {
     "data": {
      "text/plain": [
       "Index(['Id', 'Name', 'Year', 'Gender', 'Count'], dtype='object')"
      ]
     },
     "execution_count": 5,
     "metadata": {},
     "output_type": "execute_result"
    }
   ],
   "source": [
    "get_header_name('NationalNames.csv')"
   ]
  },
  {
   "cell_type": "markdown",
   "id": "23ea0293-41d0-4ce8-a9ba-090045a61b8d",
   "metadata": {},
   "source": [
    "## Завдання 4"
   ]
  },
  {
   "cell_type": "code",
   "execution_count": 7,
   "id": "729c3be4-e0e4-43b0-807d-50bfffc4ef18",
   "metadata": {},
   "outputs": [],
   "source": [
    "import pandas as pd\n",
    "\n",
    "def get_statistics(file_name):\n",
    "    dataFrame = pd.read_csv(file_name)\n",
    "    selected_cols = dataFrame[['Id', 'Year', 'Count']]\n",
    "    statistics = selected_cols.describe()\n",
    "    return statistics"
   ]
  },
  {
   "cell_type": "code",
   "execution_count": 8,
   "id": "e55ce8c1-b13b-4c03-bf12-217ffbec557e",
   "metadata": {},
   "outputs": [
    {
     "data": {
      "text/html": [
       "<div>\n",
       "<style scoped>\n",
       "    .dataframe tbody tr th:only-of-type {\n",
       "        vertical-align: middle;\n",
       "    }\n",
       "\n",
       "    .dataframe tbody tr th {\n",
       "        vertical-align: top;\n",
       "    }\n",
       "\n",
       "    .dataframe thead th {\n",
       "        text-align: right;\n",
       "    }\n",
       "</style>\n",
       "<table border=\"1\" class=\"dataframe\">\n",
       "  <thead>\n",
       "    <tr style=\"text-align: right;\">\n",
       "      <th></th>\n",
       "      <th>Id</th>\n",
       "      <th>Year</th>\n",
       "      <th>Count</th>\n",
       "    </tr>\n",
       "  </thead>\n",
       "  <tbody>\n",
       "    <tr>\n",
       "      <th>count</th>\n",
       "      <td>1.825433e+06</td>\n",
       "      <td>1.825433e+06</td>\n",
       "      <td>1.825433e+06</td>\n",
       "    </tr>\n",
       "    <tr>\n",
       "      <th>mean</th>\n",
       "      <td>9.127170e+05</td>\n",
       "      <td>1.972620e+03</td>\n",
       "      <td>1.846879e+02</td>\n",
       "    </tr>\n",
       "    <tr>\n",
       "      <th>std</th>\n",
       "      <td>5.269573e+05</td>\n",
       "      <td>3.352891e+01</td>\n",
       "      <td>1.566711e+03</td>\n",
       "    </tr>\n",
       "    <tr>\n",
       "      <th>min</th>\n",
       "      <td>1.000000e+00</td>\n",
       "      <td>1.880000e+03</td>\n",
       "      <td>5.000000e+00</td>\n",
       "    </tr>\n",
       "    <tr>\n",
       "      <th>25%</th>\n",
       "      <td>4.563590e+05</td>\n",
       "      <td>1.949000e+03</td>\n",
       "      <td>7.000000e+00</td>\n",
       "    </tr>\n",
       "    <tr>\n",
       "      <th>50%</th>\n",
       "      <td>9.127170e+05</td>\n",
       "      <td>1.982000e+03</td>\n",
       "      <td>1.200000e+01</td>\n",
       "    </tr>\n",
       "    <tr>\n",
       "      <th>75%</th>\n",
       "      <td>1.369075e+06</td>\n",
       "      <td>2.001000e+03</td>\n",
       "      <td>3.200000e+01</td>\n",
       "    </tr>\n",
       "    <tr>\n",
       "      <th>max</th>\n",
       "      <td>1.825433e+06</td>\n",
       "      <td>2.014000e+03</td>\n",
       "      <td>9.968000e+04</td>\n",
       "    </tr>\n",
       "  </tbody>\n",
       "</table>\n",
       "</div>"
      ],
      "text/plain": [
       "                 Id          Year         Count\n",
       "count  1.825433e+06  1.825433e+06  1.825433e+06\n",
       "mean   9.127170e+05  1.972620e+03  1.846879e+02\n",
       "std    5.269573e+05  3.352891e+01  1.566711e+03\n",
       "min    1.000000e+00  1.880000e+03  5.000000e+00\n",
       "25%    4.563590e+05  1.949000e+03  7.000000e+00\n",
       "50%    9.127170e+05  1.982000e+03  1.200000e+01\n",
       "75%    1.369075e+06  2.001000e+03  3.200000e+01\n",
       "max    1.825433e+06  2.014000e+03  9.968000e+04"
      ]
     },
     "execution_count": 8,
     "metadata": {},
     "output_type": "execute_result"
    }
   ],
   "source": [
    "get_statistics('NationalNames.csv')"
   ]
  },
  {
   "cell_type": "markdown",
   "id": "f7c1a609-fc17-4166-be5f-9af9c7e165da",
   "metadata": {},
   "source": [
    "## Завдання 5"
   ]
  },
  {
   "cell_type": "code",
   "execution_count": 10,
   "id": "f038d0f8-8fef-4e12-8287-6b3806b2da65",
   "metadata": {},
   "outputs": [],
   "source": [
    "import pandas as pd\n",
    "\n",
    "def get_num_unique_names(file_name):\n",
    "    dataFrame = pd.read_csv(file_name)\n",
    "    return dataFrame['Name'].nunique()"
   ]
  },
  {
   "cell_type": "code",
   "execution_count": 12,
   "id": "acae64cb-bdcd-4047-aaeb-480abf831ea3",
   "metadata": {},
   "outputs": [
    {
     "data": {
      "text/plain": [
       "93889"
      ]
     },
     "execution_count": 12,
     "metadata": {},
     "output_type": "execute_result"
    }
   ],
   "source": [
    "get_num_unique_names('NationalNames.csv')"
   ]
  },
  {
   "cell_type": "markdown",
   "id": "c28a41d2-93e5-4bb1-bbb8-0e1fecccbc40",
   "metadata": {},
   "source": [
    "## Завдання 8"
   ]
  },
  {
   "cell_type": "code",
   "execution_count": 19,
   "id": "72c7ceb4-aaf1-442a-b04b-7f98761c0a7d",
   "metadata": {},
   "outputs": [],
   "source": [
    "import pandas as pd\n",
    "\n",
    "def get_most_popular_name_by_year(file_name, year):\n",
    "    dataFrame = pd.read_csv(file_name)\n",
    "    data = dataFrame[dataFrame['Year'] == year]\n",
    "    if data.empty:\n",
    "        return None, year\n",
    "    data = data.loc[data['Count'].idxmax()]\n",
    "    name = data['Name']\n",
    "    return name, year"
   ]
  },
  {
   "cell_type": "code",
   "execution_count": 21,
   "id": "b2981b41-ea50-4458-b2c1-4af0ee68effc",
   "metadata": {},
   "outputs": [
    {
     "data": {
      "text/plain": [
       "('James', 1945)"
      ]
     },
     "execution_count": 21,
     "metadata": {},
     "output_type": "execute_result"
    }
   ],
   "source": [
    "get_most_popular_name_by_year('NationalNames.csv', 1945)"
   ]
  },
  {
   "cell_type": "markdown",
   "id": "d815377f-0670-4d75-9671-19e075f70ffa",
   "metadata": {},
   "source": [
    "## Завдання 9"
   ]
  },
  {
   "cell_type": "code",
   "execution_count": 23,
   "id": "0882a5df-6dbd-4c12-8326-ab1cf285670f",
   "metadata": {},
   "outputs": [],
   "source": [
    "import pandas as pd\n",
    "\n",
    "def get_num_records_with_min_count(file_name):\n",
    "    dataFrame = pd.read_csv(file_name)\n",
    "    min_count = dataFrame['Count'].min()\n",
    "    result = (dataFrame['Count'] == min_count).sum()\n",
    "    return result"
   ]
  },
  {
   "cell_type": "code",
   "execution_count": 26,
   "id": "37089522-5b71-4222-a345-361691ad1d4e",
   "metadata": {},
   "outputs": [
    {
     "data": {
      "text/plain": [
       "254615"
      ]
     },
     "execution_count": 26,
     "metadata": {},
     "output_type": "execute_result"
    }
   ],
   "source": [
    "get_num_records_with_min_count('NationalNames.csv')"
   ]
  },
  {
   "cell_type": "markdown",
   "id": "953c1d2a-8d1b-4944-856c-7fde28811818",
   "metadata": {},
   "source": [
    "## Завдання 11"
   ]
  },
  {
   "cell_type": "code",
   "execution_count": 28,
   "id": "ee080046-5210-47da-84b7-ded722002eed",
   "metadata": {},
   "outputs": [],
   "source": [
    "import pandas as pd\n",
    "\n",
    "def get_year_with_most_unique_names(file_name):\n",
    "    dataFrame = pd.read_csv(file_name)\n",
    "    unique_names = dataFrame.groupby('Year')['Name'].nunique()\n",
    "    year = unique_names.idxmax()\n",
    "    \n",
    "    name_counter = unique_names.max()\n",
    "    return year, name_counter"
   ]
  },
  {
   "cell_type": "code",
   "execution_count": 30,
   "id": "84a94131-b529-41e5-a43f-5fc3976a0796",
   "metadata": {},
   "outputs": [
    {
     "data": {
      "text/plain": [
       "(2008, 32488)"
      ]
     },
     "execution_count": 30,
     "metadata": {},
     "output_type": "execute_result"
    }
   ],
   "source": [
    "get_year_with_most_unique_names('NationalNames.csv')"
   ]
  },
  {
   "cell_type": "markdown",
   "id": "50c61f6e-5f41-48aa-b9fe-43d2c0fea400",
   "metadata": {},
   "source": [
    "## Завдання 12"
   ]
  },
  {
   "cell_type": "code",
   "execution_count": 33,
   "id": "1bcc4564-7892-4e95-9723-c927e718a51b",
   "metadata": {},
   "outputs": [],
   "source": [
    "import pandas as pd\n",
    "\n",
    "def get_most_popular_name(file_name, year):\n",
    "    dataFrame = pd.read_csv(file_name)\n",
    "    data = dataFrame[dataFrame['Year'] == year]\n",
    "    data = data.loc[data['Count'].idxmax()]\n",
    "    name = data['Name']\n",
    "    return name"
   ]
  },
  {
   "cell_type": "code",
   "execution_count": 34,
   "id": "aeb2bb85-5a48-4326-b239-9b120f9a09ab",
   "metadata": {},
   "outputs": [
    {
     "data": {
      "text/plain": [
       "'Jacob'"
      ]
     },
     "execution_count": 34,
     "metadata": {},
     "output_type": "execute_result"
    }
   ],
   "source": [
    "result = get_year_with_most_unique_names('NationalNames.csv')\n",
    "get_most_popular_name('NationalNames.csv', result[0])"
   ]
  },
  {
   "cell_type": "markdown",
   "id": "1c3975b9-cd2d-4e6f-b576-2c563eabd600",
   "metadata": {},
   "source": [
    "## Завдання 13"
   ]
  },
  {
   "cell_type": "code",
   "execution_count": 36,
   "id": "d08783cf-e05a-41d7-9800-e71e433daa57",
   "metadata": {},
   "outputs": [],
   "source": [
    "import pandas as pd\n",
    "\n",
    "def find_year(file_name):\n",
    "    dataFrame = pd.read_csv(file_name)\n",
    "    data = dataFrame[dataFrame['Gender'] == 'F']\n",
    "    data = data[data['Name'] == 'Jacob']\n",
    "    data = data.loc[data['Count'].idxmax()]\n",
    "    year = data['Year']\n",
    "    return year"
   ]
  },
  {
   "cell_type": "code",
   "execution_count": 37,
   "id": "0802c24d-48ec-4543-b179-9c6df47f5a79",
   "metadata": {},
   "outputs": [
    {
     "data": {
      "text/plain": [
       "2004"
      ]
     },
     "execution_count": 37,
     "metadata": {},
     "output_type": "execute_result"
    }
   ],
   "source": [
    "find_year('NationalNames.csv')"
   ]
  },
  {
   "cell_type": "markdown",
   "id": "2c3d17e3-7d5e-4e84-90bb-72e5c09d5ca2",
   "metadata": {},
   "source": [
    "## Завдання 14"
   ]
  },
  {
   "cell_type": "code",
   "execution_count": 41,
   "id": "aa08f80f-4321-4690-9ca6-2303cd5b906f",
   "metadata": {},
   "outputs": [],
   "source": [
    "import pandas as pd\n",
    "\n",
    "def get_year_themost_gender_neutral_names(file_name):\n",
    "    dataFrame = pd.read_csv('NationalNames.csv')\n",
    "    counts = dataFrame.groupby(['Name', 'Year'])['Gender'].nunique()\n",
    "    neutral_names = counts[counts == 2].reset_index()\n",
    "    names_by_year = neutral_names.groupby('Year').size()\n",
    "    count = names_by_year.max()\n",
    "    year = names_by_year.idxmax()\n",
    "    result = pd.DataFrame({year : [count]}).T\n",
    "    result.columns = ['']\n",
    "    result.index.name = 'Year'\n",
    "    return result"
   ]
  },
  {
   "cell_type": "code",
   "execution_count": 42,
   "id": "daf95c13-3b3f-4649-95be-b973e8671365",
   "metadata": {},
   "outputs": [
    {
     "data": {
      "text/html": [
       "<div>\n",
       "<style scoped>\n",
       "    .dataframe tbody tr th:only-of-type {\n",
       "        vertical-align: middle;\n",
       "    }\n",
       "\n",
       "    .dataframe tbody tr th {\n",
       "        vertical-align: top;\n",
       "    }\n",
       "\n",
       "    .dataframe thead th {\n",
       "        text-align: right;\n",
       "    }\n",
       "</style>\n",
       "<table border=\"1\" class=\"dataframe\">\n",
       "  <thead>\n",
       "    <tr style=\"text-align: right;\">\n",
       "      <th></th>\n",
       "      <th></th>\n",
       "    </tr>\n",
       "    <tr>\n",
       "      <th>Year</th>\n",
       "      <th></th>\n",
       "    </tr>\n",
       "  </thead>\n",
       "  <tbody>\n",
       "    <tr>\n",
       "      <th>2008</th>\n",
       "      <td>2557</td>\n",
       "    </tr>\n",
       "  </tbody>\n",
       "</table>\n",
       "</div>"
      ],
      "text/plain": [
       "          \n",
       "Year      \n",
       "2008  2557"
      ]
     },
     "execution_count": 42,
     "metadata": {},
     "output_type": "execute_result"
    }
   ],
   "source": [
    "get_year_themost_gender_neutral_names('NationalNames.csv')"
   ]
  },
  {
   "cell_type": "markdown",
   "id": "b3bcf32d-8722-485a-9af6-cfd32e6c6f83",
   "metadata": {},
   "source": [
    "## Завдання 16"
   ]
  },
  {
   "cell_type": "code",
   "execution_count": 44,
   "id": "e02304c7-1efe-4e4d-86c9-38b2db604b9d",
   "metadata": {},
   "outputs": [],
   "source": [
    "import pandas as pd\n",
    "\n",
    "def get_year_with_themost_children(file_name):\n",
    "    dataFrame = pd.read_csv(file_name)\n",
    "    num = dataFrame.groupby('Year')['Count'].sum()\n",
    "    return num.idxmax(), num.max()"
   ]
  },
  {
   "cell_type": "code",
   "execution_count": 45,
   "id": "74ab2f17-c694-461e-91de-a619a2d208c7",
   "metadata": {},
   "outputs": [
    {
     "data": {
      "text/plain": [
       "(1957, 4200026)"
      ]
     },
     "execution_count": 45,
     "metadata": {},
     "output_type": "execute_result"
    }
   ],
   "source": [
    "get_year_with_themost_children('NationalNames.csv')"
   ]
  },
  {
   "cell_type": "markdown",
   "id": "383c76c5-18e4-433c-9d06-436b68c23857",
   "metadata": {},
   "source": [
    "## Завдання 17"
   ]
  },
  {
   "cell_type": "code",
   "execution_count": 47,
   "id": "42f48df1-04a2-4559-9049-3d502b82ba7f",
   "metadata": {},
   "outputs": [],
   "source": [
    "import pandas as pd\n",
    "\n",
    "def get_years_with_children_by_gender(file_name):\n",
    "    dataFrame = pd.read_csv(file_name)\n",
    "    num_male = dataFrame[dataFrame['Gender'] == 'M'].groupby('Year')['Count'].sum()\n",
    "    num_female = dataFrame[dataFrame['Gender'] == 'F'].groupby('Year')['Count'].sum()\n",
    "    result = pd.DataFrame({\n",
    "        'F' : num_female,\n",
    "        'M' : num_male\n",
    "    })\n",
    "    result.columns.name = 'Gender'\n",
    "    return result"
   ]
  },
  {
   "cell_type": "code",
   "execution_count": 48,
   "id": "56855b6e-cef6-45f4-b0bf-ee6d7ed0bf8d",
   "metadata": {},
   "outputs": [
    {
     "data": {
      "text/html": [
       "<div>\n",
       "<style scoped>\n",
       "    .dataframe tbody tr th:only-of-type {\n",
       "        vertical-align: middle;\n",
       "    }\n",
       "\n",
       "    .dataframe tbody tr th {\n",
       "        vertical-align: top;\n",
       "    }\n",
       "\n",
       "    .dataframe thead th {\n",
       "        text-align: right;\n",
       "    }\n",
       "</style>\n",
       "<table border=\"1\" class=\"dataframe\">\n",
       "  <thead>\n",
       "    <tr style=\"text-align: right;\">\n",
       "      <th>Gender</th>\n",
       "      <th>F</th>\n",
       "      <th>M</th>\n",
       "    </tr>\n",
       "    <tr>\n",
       "      <th>Year</th>\n",
       "      <th></th>\n",
       "      <th></th>\n",
       "    </tr>\n",
       "  </thead>\n",
       "  <tbody>\n",
       "    <tr>\n",
       "      <th>1880</th>\n",
       "      <td>90993</td>\n",
       "      <td>110491</td>\n",
       "    </tr>\n",
       "    <tr>\n",
       "      <th>1881</th>\n",
       "      <td>91954</td>\n",
       "      <td>100745</td>\n",
       "    </tr>\n",
       "    <tr>\n",
       "      <th>1882</th>\n",
       "      <td>107850</td>\n",
       "      <td>113688</td>\n",
       "    </tr>\n",
       "    <tr>\n",
       "      <th>1883</th>\n",
       "      <td>112321</td>\n",
       "      <td>104629</td>\n",
       "    </tr>\n",
       "    <tr>\n",
       "      <th>1884</th>\n",
       "      <td>129022</td>\n",
       "      <td>114445</td>\n",
       "    </tr>\n",
       "    <tr>\n",
       "      <th>...</th>\n",
       "      <td>...</td>\n",
       "      <td>...</td>\n",
       "    </tr>\n",
       "    <tr>\n",
       "      <th>2010</th>\n",
       "      <td>1772738</td>\n",
       "      <td>1913851</td>\n",
       "    </tr>\n",
       "    <tr>\n",
       "      <th>2011</th>\n",
       "      <td>1753500</td>\n",
       "      <td>1893230</td>\n",
       "    </tr>\n",
       "    <tr>\n",
       "      <th>2012</th>\n",
       "      <td>1753922</td>\n",
       "      <td>1889414</td>\n",
       "    </tr>\n",
       "    <tr>\n",
       "      <th>2013</th>\n",
       "      <td>1745339</td>\n",
       "      <td>1881463</td>\n",
       "    </tr>\n",
       "    <tr>\n",
       "      <th>2014</th>\n",
       "      <td>1768775</td>\n",
       "      <td>1901376</td>\n",
       "    </tr>\n",
       "  </tbody>\n",
       "</table>\n",
       "<p>135 rows × 2 columns</p>\n",
       "</div>"
      ],
      "text/plain": [
       "Gender        F        M\n",
       "Year                    \n",
       "1880      90993   110491\n",
       "1881      91954   100745\n",
       "1882     107850   113688\n",
       "1883     112321   104629\n",
       "1884     129022   114445\n",
       "...         ...      ...\n",
       "2010    1772738  1913851\n",
       "2011    1753500  1893230\n",
       "2012    1753922  1889414\n",
       "2013    1745339  1881463\n",
       "2014    1768775  1901376\n",
       "\n",
       "[135 rows x 2 columns]"
      ]
     },
     "execution_count": 48,
     "metadata": {},
     "output_type": "execute_result"
    }
   ],
   "source": [
    "get_years_with_children_by_gender('NationalNames.csv')"
   ]
  },
  {
   "cell_type": "markdown",
   "id": "4c568f87-1638-4549-8ac8-e0ee264faf4c",
   "metadata": {},
   "source": [
    "## Завдання 18"
   ]
  },
  {
   "cell_type": "code",
   "execution_count": 52,
   "id": "911c12a6-c216-4c05-835c-00b512e4501e",
   "metadata": {},
   "outputs": [],
   "source": [
    "import pandas as pd\n",
    "\n",
    "def year_with_female(file_name):\n",
    "    dataFrame = pd.read_csv(file_name)\n",
    "    num_male = dataFrame[dataFrame['Gender'] == 'M'].groupby('Year')['Count'].sum()\n",
    "    num_female = dataFrame[dataFrame['Gender'] == 'F'].groupby('Year')['Count'].sum()\n",
    "    females = num_female > num_male\n",
    "    year_counter = females[females].size\n",
    "    return year_counter"
   ]
  },
  {
   "cell_type": "code",
   "execution_count": 53,
   "id": "aec5f662-d3d9-4ed7-bdb2-fa15597a609c",
   "metadata": {},
   "outputs": [
    {
     "data": {
      "text/plain": [
       "54"
      ]
     },
     "execution_count": 53,
     "metadata": {},
     "output_type": "execute_result"
    }
   ],
   "source": [
    "year_with_female('NationalNames.csv')"
   ]
  },
  {
   "cell_type": "markdown",
   "id": "59794bc9-d33f-41b0-a308-5545c7b36f69",
   "metadata": {},
   "source": [
    "## Завдання 19"
   ]
  },
  {
   "cell_type": "code",
   "execution_count": 56,
   "id": "c7c00201-7cad-4e88-b208-06b861ce6b16",
   "metadata": {},
   "outputs": [],
   "source": [
    "import pandas as pd\n",
    "import numpy as np\n",
    "import matplotlib.pyplot as plt\n",
    "\n",
    "def build_gender_graph(file_name):\n",
    "    dataFrame = pd.read_csv(file_name)\n",
    "    num_male = dataFrame[dataFrame['Gender'] == 'M'].groupby('Year')['Count'].sum()\n",
    "    num_female = dataFrame[dataFrame['Gender'] == 'F'].groupby('Year')['Count'].sum()\n",
    "    result = pd.DataFrame({\n",
    "        'F' : num_female,\n",
    "        'M' : num_male\n",
    "    }).fillna(0)\n",
    "    result.columns.name = 'Gender'\n",
    "    result[['F', 'M']].plot()\n",
    "    plt.ylabel('total births per year')"
   ]
  },
  {
   "cell_type": "code",
   "execution_count": 58,
   "id": "22f57249-d08d-4ac3-8952-d0bb11973352",
   "metadata": {},
   "outputs": [
    {
     "data": {
      "image/png": "[encoded data removed]",
      "text/plain": [
       "<Figure size 640x480 with 1 Axes>"
      ]
     },
     "metadata": {},
     "output_type": "display_data"
    }
   ],
   "source": [
    "build_gender_graph('NationalNames.csv')"
   ]
  },
  {
   "cell_type": "markdown",
   "id": "bcb19ddb-5e97-420f-b0c8-314437f126f6",
   "metadata": {},
   "source": [
    "## Завдання 20"
   ]
  },
  {
   "cell_type": "code",
   "execution_count": 60,
   "id": "c68b4996-4305-4eae-8eab-21b5a5e1b59b",
   "metadata": {},
   "outputs": [],
   "source": [
    "import pandas as pd\n",
    "\n",
    "def number_gender_neutral_names(file_name):\n",
    "    dataFrame = pd.read_csv(file_name)\n",
    "    counts = dataFrame.groupby('Name')['Gender'].nunique()\n",
    "    gender_counts = (counts == 2).sum()\n",
    "    return gender_counts"
   ]
  },
  {
   "cell_type": "code",
   "execution_count": 61,
   "id": "431d5a84-b614-4f0f-a5cf-9341fd1ac8ce",
   "metadata": {},
   "outputs": [
    {
     "data": {
      "text/plain": [
       "10221"
      ]
     },
     "execution_count": 61,
     "metadata": {},
     "output_type": "execute_result"
    }
   ],
   "source": [
    "number_gender_neutral_names('NationalNames.csv')"
   ]
  },
  {
   "cell_type": "markdown",
   "id": "f37a13b0-57d3-4ebd-836e-3c742dfebe12",
   "metadata": {},
   "source": [
    "## Завдання 22"
   ]
  },
  {
   "cell_type": "code",
   "execution_count": 63,
   "id": "89c05473-8f0d-44f4-9034-41860b1b39a7",
   "metadata": {},
   "outputs": [],
   "source": [
    "import pandas as pd \n",
    "\n",
    "def years(file_name):\n",
    "    dataFrame = pd.read_csv(file_name)\n",
    "    years = dataFrame['Year'].nunique();\n",
    "    return years"
   ]
  },
  {
   "cell_type": "code",
   "execution_count": 66,
   "id": "bda7c0fa-43cb-4050-8bb7-fec1a62776c8",
   "metadata": {},
   "outputs": [
    {
     "name": "stdout",
     "output_type": "stream",
     "text": [
      "Спостереження проводилося 135 років\n"
     ]
    }
   ],
   "source": [
    "print(f\"Спостереження проводилося {years('NationalNames.csv')} років\")"
   ]
  },
  {
   "cell_type": "markdown",
   "id": "ddc28bbe-eef9-43ce-948d-d3a3bb04c651",
   "metadata": {},
   "source": [
    "## Завдання 23"
   ]
  },
  {
   "cell_type": "code",
   "execution_count": 68,
   "id": "f5952dbd-1339-4ddd-a730-021a914e27c4",
   "metadata": {},
   "outputs": [],
   "source": [
    "import pandas as pd\n",
    "\n",
    "def get_most_popular_neutral_names(file_name):\n",
    "    dataFrame = pd.read_csv('NationalNames.csv')\n",
    "    counts = dataFrame.groupby(['Name', 'Year'])['Gender'].nunique()\n",
    "    neutral_names = counts[counts == 2].reset_index()\n",
    "    names_year_counts = neutral_names.groupby('Name')['Year'].nunique()\n",
    "    unique_years_count = dataFrame['Year'].nunique()\n",
    "    names_by_every_year = names_year_counts[names_year_counts == unique_years_count]\n",
    "    result = names_by_every_year.reset_index()\n",
    "    return result"
   ]
  },
  {
   "cell_type": "code",
   "execution_count": 71,
   "id": "b1ec1a55-5b0f-4759-9218-468f6b542c39",
   "metadata": {},
   "outputs": [
    {
     "data": {
      "text/html": [
       "<div>\n",
       "<style scoped>\n",
       "    .dataframe tbody tr th:only-of-type {\n",
       "        vertical-align: middle;\n",
       "    }\n",
       "\n",
       "    .dataframe tbody tr th {\n",
       "        vertical-align: top;\n",
       "    }\n",
       "\n",
       "    .dataframe thead th {\n",
       "        text-align: right;\n",
       "    }\n",
       "</style>\n",
       "<table border=\"1\" class=\"dataframe\">\n",
       "  <thead>\n",
       "    <tr style=\"text-align: right;\">\n",
       "      <th></th>\n",
       "      <th>Name</th>\n",
       "      <th>Year</th>\n",
       "    </tr>\n",
       "  </thead>\n",
       "  <tbody>\n",
       "    <tr>\n",
       "      <th>0</th>\n",
       "      <td>Francis</td>\n",
       "      <td>135</td>\n",
       "    </tr>\n",
       "    <tr>\n",
       "      <th>1</th>\n",
       "      <td>James</td>\n",
       "      <td>135</td>\n",
       "    </tr>\n",
       "    <tr>\n",
       "      <th>2</th>\n",
       "      <td>Jean</td>\n",
       "      <td>135</td>\n",
       "    </tr>\n",
       "    <tr>\n",
       "      <th>3</th>\n",
       "      <td>Jesse</td>\n",
       "      <td>135</td>\n",
       "    </tr>\n",
       "    <tr>\n",
       "      <th>4</th>\n",
       "      <td>Jessie</td>\n",
       "      <td>135</td>\n",
       "    </tr>\n",
       "    <tr>\n",
       "      <th>5</th>\n",
       "      <td>John</td>\n",
       "      <td>135</td>\n",
       "    </tr>\n",
       "    <tr>\n",
       "      <th>6</th>\n",
       "      <td>Johnnie</td>\n",
       "      <td>135</td>\n",
       "    </tr>\n",
       "    <tr>\n",
       "      <th>7</th>\n",
       "      <td>Joseph</td>\n",
       "      <td>135</td>\n",
       "    </tr>\n",
       "    <tr>\n",
       "      <th>8</th>\n",
       "      <td>Lee</td>\n",
       "      <td>135</td>\n",
       "    </tr>\n",
       "    <tr>\n",
       "      <th>9</th>\n",
       "      <td>Leslie</td>\n",
       "      <td>135</td>\n",
       "    </tr>\n",
       "    <tr>\n",
       "      <th>10</th>\n",
       "      <td>Marion</td>\n",
       "      <td>135</td>\n",
       "    </tr>\n",
       "    <tr>\n",
       "      <th>11</th>\n",
       "      <td>Ollie</td>\n",
       "      <td>135</td>\n",
       "    </tr>\n",
       "    <tr>\n",
       "      <th>12</th>\n",
       "      <td>Robert</td>\n",
       "      <td>135</td>\n",
       "    </tr>\n",
       "    <tr>\n",
       "      <th>13</th>\n",
       "      <td>Sidney</td>\n",
       "      <td>135</td>\n",
       "    </tr>\n",
       "    <tr>\n",
       "      <th>14</th>\n",
       "      <td>Tommie</td>\n",
       "      <td>135</td>\n",
       "    </tr>\n",
       "    <tr>\n",
       "      <th>15</th>\n",
       "      <td>William</td>\n",
       "      <td>135</td>\n",
       "    </tr>\n",
       "  </tbody>\n",
       "</table>\n",
       "</div>"
      ],
      "text/plain": [
       "       Name  Year\n",
       "0   Francis   135\n",
       "1     James   135\n",
       "2      Jean   135\n",
       "3     Jesse   135\n",
       "4    Jessie   135\n",
       "5      John   135\n",
       "6   Johnnie   135\n",
       "7    Joseph   135\n",
       "8       Lee   135\n",
       "9    Leslie   135\n",
       "10   Marion   135\n",
       "11    Ollie   135\n",
       "12   Robert   135\n",
       "13   Sidney   135\n",
       "14   Tommie   135\n",
       "15  William   135"
      ]
     },
     "execution_count": 71,
     "metadata": {},
     "output_type": "execute_result"
    }
   ],
   "source": [
    "get_most_popular_neutral_names('NationalNames.csv')"
   ]
  },
  {
   "cell_type": "markdown",
   "id": "1ef1f9d0-6d83-433f-8042-31b5b655dad3",
   "metadata": {},
   "source": [
    "## Завдання 24"
   ]
  },
  {
   "cell_type": "code",
   "execution_count": 73,
   "id": "95705b6c-453e-494a-b768-dfd23719cbc9",
   "metadata": {},
   "outputs": [],
   "source": [
    "import pandas as pd\n",
    "\n",
    "def get_most_popular_from_unpopular_names(file_name, threshold):\n",
    "    dataFrame = pd.read_csv(file_name)\n",
    "    name_counts = dataFrame.groupby('Name')['Count'].sum().reset_index()\n",
    "    unpopular_names = name_counts[name_counts['Count'] < threshold]\n",
    "    most_popular_unpopular_name = unpopular_names.loc[unpopular_names['Count'].idxmax()]\n",
    "    print(f\"Найбілше популярне з непопулярних імен - {most_popular_unpopular_name['Name']}. Ним називали {most_popular_unpopular_name['Count']} разів\")"
   ]
  },
  {
   "cell_type": "code",
   "execution_count": 76,
   "id": "8ac52086-6c65-4fbb-ac07-829c41d7499b",
   "metadata": {},
   "outputs": [
    {
     "name": "stdout",
     "output_type": "stream",
     "text": [
      "Найбілше популярне з непопулярних імен - Aariel. Ним називали 159 разів\n"
     ]
    }
   ],
   "source": [
    "get_most_popular_from_unpopular_names('NationalNames.csv', 160)"
   ]
  },
  {
   "cell_type": "markdown",
   "id": "37bdbb2c-a82e-4db3-8ad0-f96fa6c9c163",
   "metadata": {},
   "source": [
    "## Завдання 27"
   ]
  },
  {
   "cell_type": "code",
   "execution_count": 78,
   "id": "cc08cbea-c5e9-40c1-bdc4-87c8c65c6fd8",
   "metadata": {},
   "outputs": [],
   "source": [
    "import pandas as pd\n",
    "\n",
    "def get_most_popular_years_names(file_name):\n",
    "    dataFrame = pd.read_csv(file_name)\n",
    "    popular_names_every_year = dataFrame.loc[dataFrame.groupby('Year')['Count'].idxmax()]\n",
    "    popular_names_every_year.set_index('Year', inplace=True)\n",
    "    return popular_names_every_year[['Name', 'Count']]"
   ]
  },
  {
   "cell_type": "code",
   "execution_count": 80,
   "id": "fa23c63b-1b41-4a5c-a2f8-9915ea28ff04",
   "metadata": {},
   "outputs": [
    {
     "data": {
      "text/html": [
       "<div>\n",
       "<style scoped>\n",
       "    .dataframe tbody tr th:only-of-type {\n",
       "        vertical-align: middle;\n",
       "    }\n",
       "\n",
       "    .dataframe tbody tr th {\n",
       "        vertical-align: top;\n",
       "    }\n",
       "\n",
       "    .dataframe thead th {\n",
       "        text-align: right;\n",
       "    }\n",
       "</style>\n",
       "<table border=\"1\" class=\"dataframe\">\n",
       "  <thead>\n",
       "    <tr style=\"text-align: right;\">\n",
       "      <th></th>\n",
       "      <th>Name</th>\n",
       "      <th>Count</th>\n",
       "    </tr>\n",
       "    <tr>\n",
       "      <th>Year</th>\n",
       "      <th></th>\n",
       "      <th></th>\n",
       "    </tr>\n",
       "  </thead>\n",
       "  <tbody>\n",
       "    <tr>\n",
       "      <th>1880</th>\n",
       "      <td>John</td>\n",
       "      <td>9655</td>\n",
       "    </tr>\n",
       "    <tr>\n",
       "      <th>1881</th>\n",
       "      <td>John</td>\n",
       "      <td>8769</td>\n",
       "    </tr>\n",
       "    <tr>\n",
       "      <th>1882</th>\n",
       "      <td>John</td>\n",
       "      <td>9557</td>\n",
       "    </tr>\n",
       "    <tr>\n",
       "      <th>1883</th>\n",
       "      <td>John</td>\n",
       "      <td>8894</td>\n",
       "    </tr>\n",
       "    <tr>\n",
       "      <th>1884</th>\n",
       "      <td>John</td>\n",
       "      <td>9388</td>\n",
       "    </tr>\n",
       "    <tr>\n",
       "      <th>...</th>\n",
       "      <td>...</td>\n",
       "      <td>...</td>\n",
       "    </tr>\n",
       "    <tr>\n",
       "      <th>2010</th>\n",
       "      <td>Isabella</td>\n",
       "      <td>22883</td>\n",
       "    </tr>\n",
       "    <tr>\n",
       "      <th>2011</th>\n",
       "      <td>Sophia</td>\n",
       "      <td>21816</td>\n",
       "    </tr>\n",
       "    <tr>\n",
       "      <th>2012</th>\n",
       "      <td>Sophia</td>\n",
       "      <td>22267</td>\n",
       "    </tr>\n",
       "    <tr>\n",
       "      <th>2013</th>\n",
       "      <td>Sophia</td>\n",
       "      <td>21147</td>\n",
       "    </tr>\n",
       "    <tr>\n",
       "      <th>2014</th>\n",
       "      <td>Emma</td>\n",
       "      <td>20799</td>\n",
       "    </tr>\n",
       "  </tbody>\n",
       "</table>\n",
       "<p>135 rows × 2 columns</p>\n",
       "</div>"
      ],
      "text/plain": [
       "          Name  Count\n",
       "Year                 \n",
       "1880      John   9655\n",
       "1881      John   8769\n",
       "1882      John   9557\n",
       "1883      John   8894\n",
       "1884      John   9388\n",
       "...        ...    ...\n",
       "2010  Isabella  22883\n",
       "2011    Sophia  21816\n",
       "2012    Sophia  22267\n",
       "2013    Sophia  21147\n",
       "2014      Emma  20799\n",
       "\n",
       "[135 rows x 2 columns]"
      ]
     },
     "execution_count": 80,
     "metadata": {},
     "output_type": "execute_result"
    }
   ],
   "source": [
    "get_most_popular_years_names('NationalNames.csv')"
   ]
  }
 ],
 "metadata": {
  "kernelspec": {
   "display_name": "Python 3 (ipykernel)",
   "language": "python",
   "name": "python3"
  },
  "language_info": {
   "codemirror_mode": {
    "name": "ipython",
    "version": 3
   },
   "file_extension": ".py",
   "mimetype": "text/x-python",
   "name": "python",
   "nbconvert_exporter": "python",
   "pygments_lexer": "ipython3",
   "version": "3.12.3"
  }
 },
 "nbformat": 4,
 "nbformat_minor": 5
}
