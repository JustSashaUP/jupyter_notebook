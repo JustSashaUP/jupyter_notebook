{
 "cells": [
  {
   "cell_type": "code",
   "execution_count": 1,
   "id": "004bcfd9",
   "metadata": {},
   "outputs": [
    {
     "data": {
      "text/plain": [
       "10"
      ]
     },
     "execution_count": 1,
     "metadata": {},
     "output_type": "execute_result"
    }
   ],
   "source": [
    "N = ord(\"O\") % 10 + 1\n",
    "N"
   ]
  },
  {
   "cell_type": "markdown",
   "id": "17527275-c62a-47ba-9e9d-12ad40d55c65",
   "metadata": {},
   "source": [
    "# Норвегія (Norway)\n",
    "\n",
    "<div style=\"border: 1px dashed red; padding: 15px; margin: 15px; \">\n",
    "    Норвегія - це скандинавська країна, що знаходиться на півночі Європи, відома своєю багатою історією, культурою, а також мальовничими пейзажами.\n",
    "</div>\n",
    "\n",
    "---\n",
    "\n",
    "- **Столиця**\n",
    "    - *Осло* \n",
    "- **Площа:**\n",
    "    - *385 207 км<sup>2</sup>*\n",
    "- **Населення**\n",
    "    - *5,4 мільйона осіб*\n",
    "- **Державний устрій**\n",
    "    - *Конституційна монархія*\n",
    "\n",
    "---\n",
    "\n",
    "## Герб Норвегії\n",
    "<img src=\"https://upload.wikimedia.org/wikipedia/commons/thumb/9/95/Coat_of_arms_of_Norway.svg/800px-Coat_of_arms_of_Norway.svg.png\" style=\"width: 200px; height: 300px\"></img>\n",
    "\n",
    "---\n",
    "    \n",
    "### Основні пам'ятки\n",
    "|<div style=\"color: #8EEB8C\">Назва</div>          |<div style=\"color: #ffa500\">Тип</div>      |<div style=\"color: #F00000 \">Розташування</div>               |\n",
    "|:--------------|:-------:|--------------------------:|\n",
    "|Музей вікінгів |Культурна|Осло                       |\n",
    "|Йотунхеймен    |Природна |Центральна норвегія        |\n",
    "\n",
    "---\n",
    "\n",
    "#### Гімн Норвегії\n",
    "- [Гімн Норвегії на Youtube](https://www.youtube.com/watch?v=nUaiYQLm_u4)\n",
    "\n",
    "#### Положення Норвегії\n",
    "![Положення Норвегії Wikipedia](https://upload.wikimedia.org/wikipedia/commons/thumb/0/01/Europe-Norway.svg/1024px-Europe-Norway.svg.png)"
   ]
  },
  {
   "cell_type": "code",
   "execution_count": 3,
   "id": "919b639c-93a0-4fd8-b911-1896570b6625",
   "metadata": {},
   "outputs": [
    {
     "data": {
      "text/html": [
       "<h1>Прапор Норвегії</h1>\n",
       "<svg xmlns=\"http://www.w3.org/2000/svg\" viewBox=\"0 0 22 16\" width=\"150\" height=\"110\">\n",
       "  <rect width=\"22\" height=\"16\" fill=\"#BA0C2F\"/>\n",
       "  <rect x=\"6\" width=\"4\" height=\"16\" fill=\"#ffffff\"/>\n",
       "  <rect y=\"6\" width=\"22\" height=\"4\" fill=\"#ffffff\"/>\n",
       "  <rect x=\"7\" width=\"2\" height=\"16\" fill=\"#00205B\"/>\n",
       "  <rect y=\"7\" width=\"22\" height=\"2\" fill=\"#00205B\"/>\n",
       "</svg>\n"
      ],
      "text/plain": [
       "<IPython.core.display.HTML object>"
      ]
     },
     "metadata": {},
     "output_type": "display_data"
    }
   ],
   "source": [
    "%%html\n",
    "<h1>Прапор Норвегії</h1>\n",
    "<svg xmlns=\"http://www.w3.org/2000/svg\" viewBox=\"0 0 22 16\" width=\"150\" height=\"110\">\n",
    "  <rect width=\"22\" height=\"16\" fill=\"#BA0C2F\"/>\n",
    "  <rect x=\"6\" width=\"4\" height=\"16\" fill=\"#ffffff\"/>\n",
    "  <rect y=\"6\" width=\"22\" height=\"4\" fill=\"#ffffff\"/>\n",
    "  <rect x=\"7\" width=\"2\" height=\"16\" fill=\"#00205B\"/>\n",
    "  <rect y=\"7\" width=\"22\" height=\"2\" fill=\"#00205B\"/>\n",
    "</svg>"
   ]
  },
  {
   "cell_type": "code",
   "execution_count": null,
   "id": "fb9a5ba4-ae00-47e6-8cf0-dee0ad642883",
   "metadata": {},
   "outputs": [],
   "source": []
  }
 ],
 "metadata": {
  "kernelspec": {
   "display_name": "Python 3 (ipykernel)",
   "language": "python",
   "name": "python3"
  },
  "language_info": {
   "codemirror_mode": {
    "name": "ipython",
    "version": 3
   },
   "file_extension": ".py",
   "mimetype": "text/x-python",
   "name": "python",
   "nbconvert_exporter": "python",
   "pygments_lexer": "ipython3",
   "version": "3.12.4"
  }
 },
 "nbformat": 4,
 "nbformat_minor": 5
}
