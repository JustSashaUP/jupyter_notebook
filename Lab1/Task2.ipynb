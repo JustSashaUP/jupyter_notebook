{
 "cells": [
  {
   "cell_type": "code",
   "execution_count": 1,
   "id": "16439c96-8233-46a4-9442-7418cc52babc",
   "metadata": {},
   "outputs": [],
   "source": [
    "def task_10():\n",
    "    N = int(input())\n",
    "    if N == 0:\n",
    "        print(\"0^2 + 0^2 = 0\")\n",
    "        return\n",
    "    right = 1\n",
    "    while right**2 <= N:\n",
    "        for left in range(right + 1):\n",
    "            if N - left**2 == right**2:\n",
    "                print(f\"{left}^2 + {right}^2 = {N}\")\n",
    "                return\n",
    "        right += 1\n",
    "    print(f\"Число {N} не можна представити квадратами цілих чисел\")"
   ]
  }
 ],
 "metadata": {
  "kernelspec": {
   "display_name": "Python 3 (ipykernel)",
   "language": "python",
   "name": "python3"
  },
  "language_info": {
   "codemirror_mode": {
    "name": "ipython",
    "version": 3
   },
   "file_extension": ".py",
   "mimetype": "text/x-python",
   "name": "python",
   "nbconvert_exporter": "python",
   "pygments_lexer": "ipython3",
   "version": "3.12.4"
  }
 },
 "nbformat": 4,
 "nbformat_minor": 5
}
