{
 "cells": [
  {
   "cell_type": "markdown",
   "id": "7523e52c-17cd-4416-87a7-4f8b284a3436",
   "metadata": {},
   "source": [
    "<h1 style=\"text-align: center\">Лабораторна робота №2</h1>\n",
    "<h2 style=\"text-align: center\">Дослідження та візуалізація даних за допомогою Python</h2>\n",
    "<h3><strong>Мета</strong>: отримати базові навики використання Python для дослідження та візуалізації даних.</h3>"
   ]
  },
  {
   "cell_type": "code",
   "execution_count": null,
   "id": "47ffb620-1f25-4eb4-8078-78a7e03a93b3",
   "metadata": {},
   "outputs": [],
   "source": [
    "N = ord(\"O\") % 3 + 1\n",
    "N"
   ]
  },
  {
   "cell_type": "markdown",
   "id": "bcc90d9f-4137-4de5-a765-792fc239f8e0",
   "metadata": {},
   "source": [
    "### Завдання 1\n",
    "#### Створіть функцію, яка приймає назву файлу та назву стовпця як параметр \n",
    "#### і повертає масив numpy зі значеннями стовпця."
   ]
  },
  {
   "cell_type": "code",
   "execution_count": null,
   "id": "a2085b0e-7dfa-43b4-9caa-e39734c6d493",
   "metadata": {},
   "outputs": [],
   "source": [
    "import numpy as np\n",
    "import csv\n",
    "\n",
    "def get_equipment_nparray(file_name, col_title):\n",
    "    list = []\n",
    "    with open(file_name, mode='r') as file:\n",
    "        csvFile = csv.reader(file)\n",
    "        header_row = next(csvFile)\n",
    "        col_index = header_row.index(col_title)\n",
    "        for row in csvFile:\n",
    "            if col_title != 'date':\n",
    "                list.append(int(row[col_index]))\n",
    "            else:\n",
    "                list.append(str(row[col_index]))\n",
    "    return np.array(list)"
   ]
  },
  {
   "cell_type": "code",
   "execution_count": null,
   "id": "d32e8c24-9c07-4626-957b-ef2478753c1f",
   "metadata": {
    "scrolled": true
   },
   "outputs": [],
   "source": [
    "get_equipment_nparray('russia_losses_equipment.csv', 'tank')"
   ]
  },
  {
   "cell_type": "markdown",
   "id": "111e51cd-61a0-47b7-8f00-bbf678ed0cd5",
   "metadata": {},
   "source": [
    "### Завдання 2\n",
    "#### Використовуючи функцію з попереднього завдання, \n",
    "#### створіть масив numpy зі значень стовпця «tank»."
   ]
  },
  {
   "cell_type": "code",
   "execution_count": null,
   "id": "b3440d1c-57b2-49d5-a945-4278532b5521",
   "metadata": {
    "scrolled": true
   },
   "outputs": [],
   "source": [
    "tanks = get_equipment_nparray('russia_losses_equipment.csv', 'tank')\n",
    "tanks"
   ]
  },
  {
   "cell_type": "markdown",
   "id": "69234176-1c51-4704-9543-647e88de5ce9",
   "metadata": {},
   "source": [
    "### Завдання 3\n",
    "#### Знайдіть добові втрати танків."
   ]
  },
  {
   "cell_type": "code",
   "execution_count": null,
   "id": "2f8c33f0-3abb-48ce-9da3-b9428d2644ac",
   "metadata": {},
   "outputs": [],
   "source": [
    "import numpy as np\n",
    "import csv\n",
    "\n",
    "def find_num_of_day_tank_loses(tanks):\n",
    "    days_list = []\n",
    "    with open('russia_losses_equipment.csv') as file:\n",
    "        csvFile = csv.reader(file)\n",
    "        header_row = next(csvFile)\n",
    "        col_index = header_row.index('day')\n",
    "        for row in csvFile:\n",
    "            days_list.append(int(row[col_index]))\n",
    "    days = np.array(days_list)\n",
    "    daily_loses = np.diff(tanks)\n",
    "    for day, loses in zip(days[1:], daily_loses):\n",
    "        print(f\"Day {day}, Tanks: {loses}\")"
   ]
  },
  {
   "cell_type": "code",
   "execution_count": null,
   "id": "05744d5e-a5d5-4370-beaf-b173fdf5ee73",
   "metadata": {},
   "outputs": [],
   "source": [
    "find_num_of_day_tank_loses(tanks)"
   ]
  },
  {
   "cell_type": "markdown",
   "id": "cbb21b0e-1beb-46a1-803b-6bc5a812be02",
   "metadata": {},
   "source": [
    "### Завдання 4\n",
    "#### Знайдіть 4 найбільші добові втрати танків."
   ]
  },
  {
   "cell_type": "code",
   "execution_count": null,
   "id": "7f11c078-67ca-4f44-bc3f-e36ebddd03d8",
   "metadata": {},
   "outputs": [],
   "source": [
    "import numpy as np\n",
    "#Пошук 4 найбільші добові втрати\n",
    "def find_largest_daily_loses(num, tanks):\n",
    "    daily_loses = np.abs(np.diff(tanks))\n",
    "    sorted_loses = np.sort(daily_loses)\n",
    "    max_loses = sorted_loses[-num:]\n",
    "    return max_loses"
   ]
  },
  {
   "cell_type": "code",
   "execution_count": null,
   "id": "54ac0124-f6d9-43cd-a353-3cbd3f962f7e",
   "metadata": {
    "scrolled": true
   },
   "outputs": [],
   "source": [
    "max_loses = find_largest_daily_loses(4, tanks)\n",
    "print(\"4 largest daily loses:\", max_loses)"
   ]
  },
  {
   "cell_type": "markdown",
   "id": "cb7257b8-afad-4cbc-81f1-07a75c5481a1",
   "metadata": {},
   "source": [
    "### Завдання 5\n",
    "#### Визначте, скільки танків було знищено навесні 2023 року."
   ]
  },
  {
   "cell_type": "code",
   "execution_count": null,
   "id": "2d783a49-ba2b-49fd-83c8-5e9296d97161",
   "metadata": {},
   "outputs": [],
   "source": [
    "import numpy as np\n",
    "from datetime import datetime\n",
    "import csv\n",
    "\n",
    "def find_loses(start, end):\n",
    "    start_date = datetime.strptime(start, '%Y-%m-%d')\n",
    "    end_date = datetime.strptime(end, '%Y-%m-%d')\n",
    "    total_tanks = []\n",
    "    with open('russia_losses_equipment.csv') as file:\n",
    "        csvFile = csv.reader(file)\n",
    "        header_row = next(csvFile)\n",
    "        date_col_index = header_row.index('date')\n",
    "        tank_col_index = header_row.index('tank')\n",
    "        for row in csvFile:\n",
    "            row_date = datetime.strptime(row[date_col_index], '%Y-%m-%d')\n",
    "            if (start_date <= row_date <= end_date):\n",
    "                total_tanks.append(int(row[tank_col_index]))\n",
    "        total_loses = np.diff(total_tanks)\n",
    "        return np.sum(total_loses)"
   ]
  },
  {
   "cell_type": "code",
   "execution_count": null,
   "id": "cb57c9b0-d178-45b4-afdf-45397b09e290",
   "metadata": {},
   "outputs": [],
   "source": [
    "print(f\"Loses on spring 2023:\", find_loses('2023-03-01', '2023-05-31'))"
   ]
  },
  {
   "cell_type": "markdown",
   "id": "87c648a0-e5fe-45ff-9e39-590d5b844d09",
   "metadata": {},
   "source": [
    "### Завдання 6\n",
    "#### Знайдіть середнє значення знищених танків за останні 100 днів війни."
   ]
  },
  {
   "cell_type": "code",
   "execution_count": null,
   "id": "8f43d544-7216-4feb-88b5-6bd8373e7ebe",
   "metadata": {},
   "outputs": [],
   "source": [
    "import numpy as np\n",
    "import csv\n",
    "\n",
    "def find_average_value_tanks(tanks_array):\n",
    "    count = 0\n",
    "    result = 0\n",
    "    daily_loses = np.diff(tanks_array)\n",
    "    for element in daily_loses:\n",
    "        if count == 100:\n",
    "            break\n",
    "        result += element\n",
    "        count += 1\n",
    "    if count > 0:\n",
    "        return np.abs(result / count)\n",
    "    else:\n",
    "        return 0"
   ]
  },
  {
   "cell_type": "code",
   "execution_count": null,
   "id": "c8a65550-2feb-40c4-9704-38282ee830e9",
   "metadata": {},
   "outputs": [],
   "source": [
    "tanks = get_equipment_nparray('russia_losses_equipment.csv', 'tank')\n",
    "find_average_value_tanks(tanks)"
   ]
  },
  {
   "cell_type": "markdown",
   "id": "c25bcf1e-10e5-4c2c-97bf-a77570a79657",
   "metadata": {},
   "source": [
    "### Завдання 7\n",
    "#### Створіть графік втрат танків за минулий рік \n",
    "#### (починаючи з останньої дати в наборі даних)"
   ]
  },
  {
   "cell_type": "code",
   "execution_count": null,
   "id": "17ff0ce2-9480-4cdc-b84d-bfbadb2ec48b",
   "metadata": {},
   "outputs": [],
   "source": [
    "import numpy as np\n",
    "import matplotlib.pyplot as plt\n",
    "\n",
    "def get_dates_and_tanks(file_name, dates_title, tanks_title, start_date, end_date):\n",
    "    start = datetime.strptime(start_date, '%Y-%m-%d')\n",
    "    end = datetime.strptime(end_date, '%Y-%m-%d')\n",
    "    total_tanks = []\n",
    "    total_dates = []\n",
    "    with open(file_name) as file:\n",
    "        csvFile = csv.reader(file)\n",
    "        header_row = next(csvFile)\n",
    "        date_col_index = header_row.index(dates_title)\n",
    "        tank_col_index = header_row.index(tanks_title)\n",
    "        for row in csvFile:\n",
    "            row_date = datetime.strptime(row[date_col_index], '%Y-%m-%d')\n",
    "            if (start <= row_date <= end):\n",
    "                total_tanks.append(int(row[tank_col_index]))\n",
    "                total_dates.append(str(row[date_col_index]))\n",
    "        total_tanks = total_tanks[::-1]\n",
    "        total_dates = total_dates[::-1]\n",
    "        tank_loses = np.abs(np.diff(total_tanks))\n",
    "        dates = np.array(total_dates[:-1])\n",
    "    return tank_loses, dates\n",
    "\n",
    "def build_tank_loses_graph():\n",
    "    loses, dates = get_dates_and_tanks('russia_losses_equipment.csv', 'date', 'tank', '2023-01-01', '2023-12-31')\n",
    "    xAxis = dates\n",
    "    yAxis = loses\n",
    "    plt.figure(figsize=(20, 6), dpi=100)\n",
    "    plt.title(\"Tank Losses Over The Last Year\")\n",
    "    plt.xlabel(\"Date\")\n",
    "    plt.ylabel(\"Number Of Tanks Lost\")\n",
    "    ticks_position = np.arange(0, len(xAxis), 14)\n",
    "    plt.xticks(ticks_position, labels=xAxis[ticks_position], rotation=45)\n",
    "    plt.plot(xAxis, yAxis, marker='o', linestyle='--', color=\"green\")\n",
    "    plt.grid(True, color=\"orange\")\n",
    "    plt.savefig(\"tank_losses_over_the_last_year.png\", format='png', dpi=75)\n",
    "    plt.show()"
   ]
  },
  {
   "cell_type": "code",
   "execution_count": null,
   "id": "e904b6bf-50a3-412b-b49a-efbad289dafa",
   "metadata": {},
   "outputs": [],
   "source": [
    "build_tank_loses_graph()"
   ]
  }
 ],
 "metadata": {
  "kernelspec": {
   "display_name": "Python 3 (ipykernel)",
   "language": "python",
   "name": "python3"
  },
  "language_info": {
   "codemirror_mode": {
    "name": "ipython",
    "version": 3
   },
   "file_extension": ".py",
   "mimetype": "text/x-python",
   "name": "python",
   "nbconvert_exporter": "python",
   "pygments_lexer": "ipython3",
   "version": "3.12.4"
  }
 },
 "nbformat": 4,
 "nbformat_minor": 5
}
