{
 "cells": [
  {
   "cell_type": "code",
   "execution_count": 1,
   "id": "16439c96-8233-46a4-9442-7418cc52babc",
   "metadata": {},
   "outputs": [],
   "source": [
    "def task_10():\n",
    "    N = int(input())\n",
    "    if N == 0:\n",
    "        print(\"0^2 + 0^2 = 0\")\n",
    "        return\n",
    "    right = 1\n",
    "    while right**2 <= N:\n",
    "        for left in range(right + 1):\n",
    "            if N - left**2 == right**2:\n",
    "                print(f\"{left}^2 + {right}^2 = {N}\")\n",
    "                return\n",
    "        right += 1\n",
    "    print(f\"Число {N} не можна представити квадратами цілих чисел\")"
   ]
  },
  {
   "cell_type": "code",
   "execution_count": 10,
   "id": "e6924564-0928-4f0c-931f-8da083f4557f",
   "metadata": {},
   "outputs": [
    {
     "name": "stdin",
     "output_type": "stream",
     "text": [
      " 0\n"
     ]
    },
    {
     "name": "stdout",
     "output_type": "stream",
     "text": [
      "0^2 + 0^2 = 0\n"
     ]
    }
   ],
   "source": [
    "task_10()"
   ]
  },
  {
   "cell_type": "code",
   "execution_count": 7,
   "id": "2a65e9c5-1c7f-4580-9f69-6fbe4c705ad0",
   "metadata": {},
   "outputs": [
    {
     "name": "stdin",
     "output_type": "stream",
     "text": [
      " 21\n"
     ]
    },
    {
     "name": "stdout",
     "output_type": "stream",
     "text": [
      "Число 21 не можна представити квадратами цілих чисел\n"
     ]
    }
   ],
   "source": [
    "task_10()"
   ]
  },
  {
   "cell_type": "code",
   "execution_count": null,
   "id": "1681eb57-25f3-45b0-bf15-4db9e4f551ce",
   "metadata": {},
   "outputs": [],
   "source": []
  }
 ],
 "metadata": {
  "kernelspec": {
   "display_name": "Python 3 (ipykernel)",
   "language": "python",
   "name": "python3"
  },
  "language_info": {
   "codemirror_mode": {
    "name": "ipython",
    "version": 3
   },
   "file_extension": ".py",
   "mimetype": "text/x-python",
   "name": "python",
   "nbconvert_exporter": "python",
   "pygments_lexer": "ipython3",
   "version": "3.12.4"
  }
 },
 "nbformat": 4,
 "nbformat_minor": 5
}
